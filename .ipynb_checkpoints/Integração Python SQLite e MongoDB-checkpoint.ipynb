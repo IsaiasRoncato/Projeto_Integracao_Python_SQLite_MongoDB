{
 "cells": [
  {
   "cell_type": "markdown",
   "id": "0a3fab0c",
   "metadata": {},
   "source": [
    "## Parte 1 - Implementando um Banco de Dados Relacional com SQLAlchemy"
   ]
  },
  {
   "cell_type": "markdown",
   "id": "0e24ecc3",
   "metadata": {},
   "source": [
    "### Passo 1: Configuração do Ambiente\n",
    "\n"
   ]
  },
  {
   "cell_type": "code",
   "execution_count": null,
   "id": "5967fe41",
   "metadata": {},
   "outputs": [],
   "source": [
    "pip install sqlalchemy"
   ]
  },
  {
   "cell_type": "markdown",
   "id": "249409ab",
   "metadata": {},
   "source": [
    "### Passo 2: Definição do Esquema e Criação das Classes"
   ]
  },
  {
   "cell_type": "code",
   "execution_count": null,
   "id": "f62676a1",
   "metadata": {},
   "outputs": [],
   "source": [
    "from sqlalchemy import create_engine, Column, Integer, String, Float, ForeignKey\n",
    "from sqlalchemy.ext.declarative import declarative_base\n",
    "from sqlalchemy.orm import relationship, sessionmaker\n",
    "\n",
    "Base = declarative_base()\n",
    "\n",
    "class Cliente(Base):\n",
    "    __tablename__ = 'clientes'\n",
    "    \n",
    "    id = Column(Integer, primary_key=True, autoincrement=True)\n",
    "    nome = Column(String)\n",
    "    email = Column(String)\n",
    "    contas = relationship('Conta', back_populates='cliente')\n",
    "\n",
    "class Conta(Base):\n",
    "    __tablename__ = 'contas'\n",
    "    \n",
    "    id = Column(Integer, primary_key=True, autoincrement=True)\n",
    "    saldo = Column(Float)\n",
    "    cliente_id = Column(Integer, ForeignKey('clientes.id'))\n",
    "    cliente = relationship('Cliente', back_populates='contas')\n",
    "\n",
    "# Configuração do banco de dados SQLite\n",
    "engine = create_engine('sqlite:///banco.db')\n",
    "Base.metadata.create_all(engine)\n",
    "\n",
    "# Criação de uma sessão\n",
    "Session = sessionmaker(bind=engine)\n",
    "session = Session()\n",
    "\n",
    "# Inserção de dados\n",
    "cliente1 = Cliente(nome=\"João Silva\", email=\"joao.silva@example.com\")\n",
    "conta1 = Conta(saldo=1000.0, cliente=cliente1)\n",
    "conta2 = Conta(saldo=1500.0, cliente=cliente1)\n",
    "\n",
    "cliente2 = Cliente(nome=\"Maria Oliveira\", email=\"maria.oliveira@example.com\")\n",
    "conta3 = Conta(saldo=2000.0, cliente=cliente2)\n",
    "\n",
    "session.add_all([cliente1, cliente2])\n",
    "session.commit()\n",
    "\n",
    "# Recuperação de dados\n",
    "clientes = session.query(Cliente).all()\n",
    "for cliente in clientes:\n",
    "    print(f'Cliente: {cliente.nome}, Email: {cliente.email}')\n",
    "    for conta in cliente.contas:\n",
    "        print(f'  Conta ID: {conta.id}, Saldo: {conta.saldo}')\n"
   ]
  },
  {
   "cell_type": "markdown",
   "id": "ec1db129",
   "metadata": {},
   "source": [
    "## Parte 2 - Implementando um Banco de Dados NoSQL com Pymongo"
   ]
  },
  {
   "cell_type": "markdown",
   "id": "60a5f21a",
   "metadata": {},
   "source": [
    "### Passo 1: Configuração do Ambiente"
   ]
  },
  {
   "cell_type": "code",
   "execution_count": null,
   "id": "9031d4c4",
   "metadata": {},
   "outputs": [],
   "source": [
    "pip install pymongo\n"
   ]
  },
  {
   "cell_type": "markdown",
   "id": "8556555e",
   "metadata": {},
   "source": [
    "### Passo 2: Conexão ao MongoDB Atlas e Criação do Banco de Dados"
   ]
  },
  {
   "cell_type": "code",
   "execution_count": null,
   "id": "db76334d",
   "metadata": {},
   "outputs": [],
   "source": [
    "from pymongo import MongoClient\n",
    "\n",
    "# Conexão ao MongoDB Atlas\n",
    "client = MongoClient('your_mongo_db_connection_string')\n",
    "db = client.bank\n",
    "\n",
    "# Definição da coleção e inserção de documentos\n",
    "clientes = db.clientes\n",
    "\n",
    "# Estrutura de documento de cliente com contas\n",
    "cliente1 = {\n",
    "    \"nome\": \"João Silva\",\n",
    "    \"email\": \"joao.silva@example.com\",\n",
    "    \"contas\": [\n",
    "        {\"id\": 1, \"saldo\": 1000.0},\n",
    "        {\"id\": 2, \"saldo\": 1500.0}\n",
    "    ]\n",
    "}\n",
    "\n",
    "cliente2 = {\n",
    "    \"nome\": \"Maria Oliveira\",\n",
    "    \"email\": \"maria.oliveira@example.com\",\n",
    "    \"contas\": [\n",
    "        {\"id\": 3, \"saldo\": 2000.0}\n",
    "    ]\n",
    "}\n",
    "\n",
    "clientes.insert_many([cliente1, cliente2])\n",
    "\n",
    "# Recuperação de dados\n",
    "for cliente in clientes.find():\n",
    "    print(f'Cliente: {cliente[\"nome\"]}, Email: {cliente[\"email\"]}')\n",
    "    for conta in cliente[\"contas\"]:\n",
    "        print(f'  Conta ID: {conta[\"id\"]}, Saldo: {conta[\"saldo\"]}')\n"
   ]
  },
  {
   "cell_type": "markdown",
   "id": "88eeaaae",
   "metadata": {},
   "source": [
    "## Parte 3 - Execução"
   ]
  },
  {
   "cell_type": "code",
   "execution_count": null,
   "id": "ea6fee32",
   "metadata": {},
   "outputs": [],
   "source": [
    "python app.py\n",
    "python mongodb_app.py"
   ]
  }
 ],
 "metadata": {
  "kernelspec": {
   "display_name": "Python 3 (ipykernel)",
   "language": "python",
   "name": "python3"
  },
  "language_info": {
   "codemirror_mode": {
    "name": "ipython",
    "version": 3
   },
   "file_extension": ".py",
   "mimetype": "text/x-python",
   "name": "python",
   "nbconvert_exporter": "python",
   "pygments_lexer": "ipython3",
   "version": "3.11.5"
  }
 },
 "nbformat": 4,
 "nbformat_minor": 5
}
